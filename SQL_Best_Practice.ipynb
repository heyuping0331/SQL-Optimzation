{
 "cells": [
  {
   "cell_type": "markdown",
   "metadata": {},
   "source": [
    "# CASE WHEN\n",
    "### Use case: creating categorization from a numerical column"
   ]
  },
  {
   "cell_type": "markdown",
   "metadata": {},
   "source": [
    "## Set up"
   ]
  },
  {
   "cell_type": "code",
   "execution_count": null,
   "metadata": {},
   "outputs": [],
   "source": [
    "import os\n",
    "import pandas as pd"
   ]
  },
  {
   "cell_type": "code",
   "execution_count": 2,
   "metadata": {},
   "outputs": [],
   "source": [
    "#os.getcwd()\n",
    "os.chdir('/Users/yupinghe/Downloads')"
   ]
  },
  {
   "cell_type": "code",
   "execution_count": 3,
   "metadata": {},
   "outputs": [
    {
     "name": "stdout",
     "output_type": "stream",
     "text": [
      "2.3.3\n",
      "<class 'pyspark.context.SparkContext'>\n",
      "<class 'pyspark.sql.session.SparkSession'>\n",
      "local[2]\n"
     ]
    }
   ],
   "source": [
    "print(spark.version)\n",
    "print(type(sc)) # default spark context\n",
    "print(type(spark)) # default spark session\n",
    "print(sc.master) # default master"
   ]
  },
  {
   "cell_type": "code",
   "execution_count": 4,
   "metadata": {},
   "outputs": [],
   "source": [
    "d = pd.read_csv('applications data.csv')"
   ]
  },
  {
   "cell_type": "code",
   "execution_count": 5,
   "metadata": {},
   "outputs": [],
   "source": [
    "spark.createDataFrame(d).createOrReplaceTempView('applications')"
   ]
  },
  {
   "cell_type": "markdown",
   "metadata": {},
   "source": [
    "## Wide format"
   ]
  },
  {
   "cell_type": "code",
   "execution_count": 21,
   "metadata": {},
   "outputs": [
    {
     "name": "stdout",
     "output_type": "stream",
     "text": [
      "+------+------+------+------+\n",
      "|    Q1|    Q2|    Q3|    Q4|\n",
      "+------+------+------+------+\n",
      "|246862|249633|252147|251358|\n",
      "+------+------+------+------+\n",
      "\n"
     ]
    }
   ],
   "source": [
    "query2 = \\\n",
    "\"SELECT \\\n",
    "SUM(CASE WHEN to_date(string(date),'yyyyMMdd') >= '2016-01-01' AND to_date(string(date),'yyyyMMdd') <= '2016-03-31' THEN 1 ELSE 0 END) AS Q1, \\\n",
    "SUM(CASE WHEN to_date(string(date),'yyyyMMdd') >= '2016-04-01' AND to_date(string(date),'yyyyMMdd') <= '2016-06-30' THEN 1 ELSE 0 END) AS Q2, \\\n",
    "SUM(CASE WHEN to_date(string(date),'yyyyMMdd') >= '2016-07-01' AND to_date(string(date),'yyyyMMdd') <= '2016-09-30' THEN 1 ELSE 0 END) AS Q3, \\\n",
    "SUM(CASE WHEN to_date(string(date),'yyyyMMdd') >= '2016-10-01' AND to_date(string(date),'yyyyMMdd') <= '2016-12-31' THEN 1 ELSE 0 END) AS Q4 \\\n",
    "FROM applications\"\n",
    "\n",
    "spark.sql(query2).show()"
   ]
  },
  {
   "cell_type": "markdown",
   "metadata": {},
   "source": [
    "## Long format"
   ]
  },
  {
   "cell_type": "code",
   "execution_count": 25,
   "metadata": {},
   "outputs": [
    {
     "name": "stdout",
     "output_type": "stream",
     "text": [
      "+-------+------+\n",
      "|Quarter| Count|\n",
      "+-------+------+\n",
      "|     Q2|249633|\n",
      "|     Q1|246862|\n",
      "|     Q3|252147|\n",
      "|     Q4|251358|\n",
      "+-------+------+\n",
      "\n"
     ]
    }
   ],
   "source": [
    "query1 = \\\n",
    "\"SELECT Quarter, count(*) AS Count \\\n",
    " FROM (SELECT \\\n",
    "        CASE \\\n",
    "        WHEN to_date(string(date), 'yyyyMMdd') >= '2016-01-01' AND to_date(string(date), 'yyyyMMdd') <= '2016-03-31' THEN 'Q1' \\\n",
    "        WHEN to_date(string(date), 'yyyyMMdd') >= '2016-04-01' AND to_date(string(date), 'yyyyMMdd') <= '2016-06-30' THEN 'Q2' \\\n",
    "        WHEN to_date(string(date), 'yyyyMMdd') >= '2016-07-01' AND to_date(string(date), 'yyyyMMdd') <= '2016-09-30' THEN 'Q3' \\\n",
    "        WHEN to_date(string(date), 'yyyyMMdd') >= '2016-10-01' AND to_date(string(date), 'yyyyMMdd') <= '2016-12-31' THEN 'Q4' \\\n",
    "        END AS Quarter  \\\n",
    "       FROM applications) a\\\n",
    " GROUP BY Quarter\"\n",
    "\n",
    "spark.sql(query1).show()"
   ]
  },
  {
   "cell_type": "markdown",
   "metadata": {},
   "source": [
    "## Close out"
   ]
  },
  {
   "cell_type": "code",
   "execution_count": 29,
   "metadata": {},
   "outputs": [
    {
     "data": {
      "text/plain": [
       "[]"
      ]
     },
     "execution_count": 29,
     "metadata": {},
     "output_type": "execute_result"
    }
   ],
   "source": [
    "spark.catalog.dropTempView(\"applications\")\n",
    "spark.catalog.listTables()"
   ]
  },
  {
   "cell_type": "code",
   "execution_count": null,
   "metadata": {},
   "outputs": [],
   "source": []
  }
 ],
 "metadata": {
  "kernelspec": {
   "display_name": "Python 3",
   "language": "python",
   "name": "python3"
  },
  "language_info": {
   "codemirror_mode": {
    "name": "ipython",
    "version": 3
   },
   "file_extension": ".py",
   "mimetype": "text/x-python",
   "name": "python",
   "nbconvert_exporter": "python",
   "pygments_lexer": "ipython3",
   "version": "3.7.3"
  }
 },
 "nbformat": 4,
 "nbformat_minor": 2
}
