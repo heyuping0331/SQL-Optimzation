{
 "cells": [
  {
   "cell_type": "code",
   "execution_count": 1,
   "metadata": {},
   "outputs": [],
   "source": [
    "import os\n",
    "import pandas as pd"
   ]
  },
  {
   "cell_type": "code",
   "execution_count": 2,
   "metadata": {},
   "outputs": [],
   "source": [
    "#os.getcwd()\n",
    "os.chdir('/Users/yupinghe/Downloads')"
   ]
  },
  {
   "cell_type": "code",
   "execution_count": 3,
   "metadata": {},
   "outputs": [
    {
     "name": "stdout",
     "output_type": "stream",
     "text": [
      "2.3.3\n",
      "<class 'pyspark.context.SparkContext'>\n",
      "<class 'pyspark.sql.session.SparkSession'>\n",
      "local[2]\n"
     ]
    }
   ],
   "source": [
    "print(spark.version)\n",
    "print(type(sc)) # default spark context\n",
    "print(type(spark)) # default spark session\n",
    "print(sc.master) # default master"
   ]
  },
  {
   "cell_type": "code",
   "execution_count": 4,
   "metadata": {},
   "outputs": [],
   "source": [
    "d = pd.read_csv('applications data.csv')"
   ]
  },
  {
   "cell_type": "code",
   "execution_count": 5,
   "metadata": {},
   "outputs": [],
   "source": [
    "spark.createDataFrame(d).createOrReplaceTempView('applications')"
   ]
  },
  {
   "cell_type": "markdown",
   "metadata": {},
   "source": [
    "# CASE WHEN"
   ]
  },
  {
   "cell_type": "markdown",
   "metadata": {},
   "source": [
    "## Wide format"
   ]
  },
  {
   "cell_type": "code",
   "execution_count": null,
   "metadata": {},
   "outputs": [],
   "source": [
    "df_spark = spark.sql(query)"
   ]
  },
  {
   "cell_type": "code",
   "execution_count": null,
   "metadata": {},
   "outputs": [],
   "source": [
    "df_spark = spark.sql(query)"
   ]
  },
  {
   "cell_type": "code",
   "execution_count": null,
   "metadata": {},
   "outputs": [],
   "source": [
    "df_spark.show()"
   ]
  },
  {
   "cell_type": "markdown",
   "metadata": {},
   "source": [
    "## Long format"
   ]
  },
  {
   "cell_type": "code",
   "execution_count": 91,
   "metadata": {},
   "outputs": [],
   "source": [
    "query = \\\n",
    "\"SELECT Quarter, count(*) \\\n",
    " FROM (SELECT \\\n",
    "        CASE \\\n",
    "        WHEN to_date(string(date), 'yyyymmdd') >= to_date('2016-01-01', 'yyyymmdd') AND to_date(string(date), 'yyyymmdd') <= to_date('2016-03-31', 'yyyymmdd') THEN 'Q1' \\\n",
    "        WHEN to_date(string(date), 'yyyymmdd') >= to_date('2016-04-01', 'yyyymmdd') AND to_date(string(date), 'yyyymmdd') <= to_date('2016-06-30', 'yyyymmdd') THEN 'Q2' \\\n",
    "        WHEN to_date(string(date), 'yyyymmdd') >= to_date('2016-07-01', 'yyyymmdd') AND to_date(string(date), 'yyyymmdd') <= to_date('2016-09-30', 'yyyymmdd') THEN 'Q3' \\\n",
    "        WHEN to_date(string(date), 'yyyymmdd') >= to_date('2016-10-01', 'yyyymmdd') AND to_date(string(date), 'yyyymmdd') <= to_date('2016-12-31', 'yyyymmdd') THEN 'Q4' \\\n",
    "        END AS Quarter  \\\n",
    "       FROM applications) a\\\n",
    " GROUP BY Quarter\""
   ]
  },
  {
   "cell_type": "code",
   "execution_count": 92,
   "metadata": {},
   "outputs": [],
   "source": [
    "df_spark = spark.sql(query)"
   ]
  },
  {
   "cell_type": "code",
   "execution_count": 93,
   "metadata": {},
   "outputs": [
    {
     "name": "stdout",
     "output_type": "stream",
     "text": [
      "+-------+--------+\n",
      "|Quarter|count(1)|\n",
      "+-------+--------+\n",
      "|   null|  703281|\n",
      "|     Q2|   98944|\n",
      "|     Q1|   98772|\n",
      "|     Q3|   99003|\n",
      "+-------+--------+\n",
      "\n"
     ]
    }
   ],
   "source": [
    "df_spark.show()"
   ]
  },
  {
   "cell_type": "code",
   "execution_count": 7,
   "metadata": {},
   "outputs": [
    {
     "data": {
      "text/plain": [
       "[Table(name='applications', database=None, description=None, tableType='TEMPORARY', isTemporary=True)]"
      ]
     },
     "execution_count": 7,
     "metadata": {},
     "output_type": "execute_result"
    }
   ],
   "source": [
    "spark.catalog.listTables()"
   ]
  },
  {
   "cell_type": "code",
   "execution_count": null,
   "metadata": {},
   "outputs": [],
   "source": []
  },
  {
   "cell_type": "code",
   "execution_count": null,
   "metadata": {},
   "outputs": [],
   "source": []
  }
 ],
 "metadata": {
  "kernelspec": {
   "display_name": "Python 3",
   "language": "python",
   "name": "python3"
  },
  "language_info": {
   "codemirror_mode": {
    "name": "ipython",
    "version": 3
   },
   "file_extension": ".py",
   "mimetype": "text/x-python",
   "name": "python",
   "nbconvert_exporter": "python",
   "pygments_lexer": "ipython3",
   "version": "3.7.3"
  }
 },
 "nbformat": 4,
 "nbformat_minor": 2
}
